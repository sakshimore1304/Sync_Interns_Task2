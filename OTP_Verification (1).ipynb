{
 "cells": [
  {
   "cell_type": "markdown",
   "id": "b0fe938b",
   "metadata": {},
   "source": [
    "# CREATING OTP VERIFICATION USING PYTHON"
   ]
  },
  {
   "cell_type": "markdown",
   "id": "c0423d6c",
   "metadata": {},
   "source": [
    "#### THIS PROJECT IS DONE BY SAKSHI K MORE"
   ]
  },
  {
   "cell_type": "markdown",
   "id": "3686d7c1",
   "metadata": {},
   "source": [
    "##### importing all the required libraries"
   ]
  },
  {
   "cell_type": "code",
   "execution_count": 1,
   "id": "c4573230",
   "metadata": {},
   "outputs": [],
   "source": [
    "import pandas as pd\n",
    "import numpy as np\n",
    "import smtplib\n",
    "import random\n",
    "from email.message import EmailMessage"
   ]
  },
  {
   "cell_type": "code",
   "execution_count": null,
   "id": "6d86d442",
   "metadata": {},
   "outputs": [
    {
     "name": "stdout",
     "output_type": "stream",
     "text": [
      "Enter your email address: sakshimore191@gmail.com\n",
      "Enter your email address: sakshimore191@gmail.com\n",
      "Enter Password: Init@1234\n"
     ]
    }
   ],
   "source": [
    "happy='\\u263A'\n",
    "sad='\\u2639'\n",
    "email=input('Enter your email address: ')\n",
    "send_to=input('Enter your email address: ')\n",
    "password=input('Enter Password: ')\n",
    "a=email\n",
    "if a !=0:\n",
    "    otp=random.randint(100000,999999)\n",
    "    sender_email = email \n",
    "    receiver_email=send_to\n",
    "    password=password\n",
    "    smtp_server='smtp.gmail.com'\n",
    "    smtp_port=535\n",
    "    \n",
    "\n",
    "    \n",
    "    server = smtplib.SMTP(smtp_server, smtp_port)\n",
    "    server.starttls()\n",
    "    server.login(sender_email,password)\n",
    "    msg = f'OTP Verification Email\\n\\nYour OTP is: {otp}'\n",
    "    server.sendmail('sakshikmore191@gmail.com',receiver_email,msg)\n",
    "    \n",
    "    x=input('Enter OTP: ')\n",
    "    if x==otp:\n",
    "        print('Verification Done Successfully!!'+happy)\n",
    "    else:\n",
    "        print('Verification Failed!'+sad)\n",
    "else:\n",
    "    print('Enter valid email address')"
   ]
  },
  {
   "cell_type": "code",
   "execution_count": null,
   "id": "bc9a6ffa",
   "metadata": {},
   "outputs": [],
   "source": []
  }
 ],
 "metadata": {
  "kernelspec": {
   "display_name": "Python 3",
   "language": "python",
   "name": "python3"
  },
  "language_info": {
   "codemirror_mode": {
    "name": "ipython",
    "version": 3
   },
   "file_extension": ".py",
   "mimetype": "text/x-python",
   "name": "python",
   "nbconvert_exporter": "python",
   "pygments_lexer": "ipython3",
   "version": "3.8.8"
  }
 },
 "nbformat": 4,
 "nbformat_minor": 5
}
